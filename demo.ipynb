{
 "cells": [
  {
   "cell_type": "code",
   "execution_count": 18,
   "metadata": {},
   "outputs": [],
   "source": [
    "import bs4\n",
    "from langchain import hub\n",
    "from langchain_community.document_loaders import WebBaseLoader\n",
    "from langchain_community.vectorstores import Chroma\n",
    "from langchain_core.output_parsers import StrOutputParser\n",
    "from langchain_core.runnables import RunnablePassthrough\n",
    "from langchain_openai import OpenAIEmbeddings\n",
    "from langchain_text_splitters import RecursiveCharacterTextSplitter\n",
    "from langchain_core.prompts import PromptTemplate\n",
    "\n",
    "from langchain.agents.openai_assistant import OpenAIAssistantRunnable\n",
    "from langchain_openai import ChatOpenAI\n",
    "from langchain.agents import AgentExecutor, create_openai_tools_agent\n",
    "from langchain_community.tools.tavily_search import TavilySearchResults\n",
    "from langchain import OpenAI"
   ]
  },
  {
   "cell_type": "code",
   "execution_count": 15,
   "metadata": {},
   "outputs": [],
   "source": [
    "chat = ChatOpenAI(temperature=0)"
   ]
  },
  {
   "cell_type": "code",
   "execution_count": 34,
   "metadata": {},
   "outputs": [],
   "source": [
    "template = PromptTemplate.from_template(\"\"\"\n",
    "    Given the topic '{topic}' and the following base index, please update the index according to the user's instructions. \n",
    "    Maintain the original structure, using an asterisk (*) for chapters and a dash (-) for subchapters.\n",
    "    \n",
    "    Base Index:\n",
    "    {base_index}\n",
    "    \n",
    "    User Changes:\n",
    "    {user_changes}\n",
    "    \n",
    "    Please follow this format to update the index accordingly and provide a complete overview of the given topic in Spanish.\n",
    "\"\"\")"
   ]
  },
  {
   "cell_type": "code",
   "execution_count": 35,
   "metadata": {},
   "outputs": [],
   "source": [
    "llm = ChatOpenAI(model=\"gpt-3.5-turbo-1106\", temperature=0)"
   ]
  },
  {
   "cell_type": "code",
   "execution_count": 36,
   "metadata": {},
   "outputs": [],
   "source": [
    "runnable = template | llm | StrOutputParser()"
   ]
  },
  {
   "cell_type": "code",
   "execution_count": 53,
   "metadata": {},
   "outputs": [],
   "source": [
    "topic = 'CIBERSEGURIDAD'"
   ]
  },
  {
   "cell_type": "code",
   "execution_count": 54,
   "metadata": {},
   "outputs": [],
   "source": [
    "base_index = \"\"\"\n",
    "* Aproximación a la Ciberseguridad.\n",
    "- Gestión de la seguridad en Internet.\n",
    "- Uso seguro y crítico en Internet.\n",
    "- Conocimiento de aspectos legales, regulatorios y éticos relacionados con la protección de datos.\n",
    "- Conocimiento sobre los ciberdelitos.\n",
    "- Adaptación de medidas sobre cómo protegerse del ingreso de intrusos.\n",
    "- Asimilación de la teoría de nodos y lazos.\n",
    "\"\"\""
   ]
  },
  {
   "cell_type": "code",
   "execution_count": 85,
   "metadata": {},
   "outputs": [],
   "source": [
    "#user_changes = 'agrega mas capitulos y subcapitulos de acuerdo al tema, siguiendo el indice propuesto'\n",
    "#user_changes = 'organiza los subcapitulos y si es necesario crea capitulos para poder organizar mejor el indice'\n",
    "#user_changes = 'organiza los subcapitulos de tal modo que se tenga  3 capitulos ademas adiciona a cada capitulo algunos subcapitulos para que tenga como minimo 3 subcapitulos por capitulo'\n",
    "user_changes = 'organiza los subcapitulos de tal modo que se tenga  3 capitulos ademas adiciona a cada capitulo algunos subcapitulos para que tenga como minimo 3 subcapitulos por capitulo, por cada subcapitulos, crea commo maximo 3 sub sub capitulos por subcapitulo'"
   ]
  },
  {
   "cell_type": "code",
   "execution_count": 86,
   "metadata": {},
   "outputs": [],
   "source": [
    "summary = runnable.invoke({'topic': topic, 'base_index': base_index, 'user_changes': user_changes})"
   ]
  },
  {
   "cell_type": "code",
   "execution_count": 87,
   "metadata": {},
   "outputs": [
    {
     "name": "stdout",
     "output_type": "stream",
     "text": [
      "* Fundamentos de Ciberseguridad\n",
      "- Gestión de la seguridad en Internet.\n",
      "  - Implementación de firewalls.\n",
      "  - Uso de software de detección de intrusiones.\n",
      "  - Configuración de redes privadas virtuales (VPN).\n",
      "- Uso seguro y crítico en Internet.\n",
      "  - Buenas prácticas de navegación segura.\n",
      "  - Protección de la identidad en línea.\n",
      "  - Prevención de ataques de phishing.\n",
      "- Aspectos legales y éticos en Ciberseguridad\n",
      "  - Cumplimiento de regulaciones de protección de datos (GDPR, CCPA, etc.).\n",
      "  - Ética en el manejo de información confidencial.\n",
      "  - Responsabilidad legal en caso de brechas de seguridad.\n",
      "* Amenazas y Delitos Cibernéticos\n",
      "- Conocimiento de ciberdelitos.\n",
      "  - Tipos de malware y sus efectos.\n",
      "  - Ingeniería social y sus riesgos.\n",
      "  - Ataques de denegación de servicio (DDoS).\n",
      "- Protección contra intrusos\n",
      "  - Implementación de sistemas de detección de intrusos (IDS).\n",
      "  - Configuración de sistemas de prevención de intrusiones (IPS).\n",
      "  - Monitoreo de actividad sospechosa en la red.\n",
      "- Teoría de nodos y lazos\n",
      "  - Análisis de vulnerabilidades en la red.\n",
      "  - Identificación de puntos críticos en la infraestructura de red.\n",
      "  - Establecimiento de conexiones seguras entre nodos.\n"
     ]
    }
   ],
   "source": [
    "print(summary)"
   ]
  },
  {
   "cell_type": "code",
   "execution_count": null,
   "metadata": {},
   "outputs": [],
   "source": []
  }
 ],
 "metadata": {
  "kernelspec": {
   "display_name": "langchain-wlXgnj8g",
   "language": "python",
   "name": "python3"
  },
  "language_info": {
   "codemirror_mode": {
    "name": "ipython",
    "version": 3
   },
   "file_extension": ".py",
   "mimetype": "text/x-python",
   "name": "python",
   "nbconvert_exporter": "python",
   "pygments_lexer": "ipython3",
   "version": "3.9.6"
  }
 },
 "nbformat": 4,
 "nbformat_minor": 2
}
